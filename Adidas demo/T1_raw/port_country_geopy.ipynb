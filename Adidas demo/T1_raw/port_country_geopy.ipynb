{
 "cells": [
  {
   "cell_type": "code",
   "execution_count": 9,
   "metadata": {},
   "outputs": [
    {
     "name": "stdout",
     "output_type": "stream",
     "text": [
      "Index(['id', 'elastic_loc_id', 'port_name', 'latitude', 'longitude',\n",
      "       'port_code', 'created_at', 'last_updated'],\n",
      "      dtype='object')\n"
     ]
    }
   ],
   "source": [
    "import pandas as pd\n",
    "import io\n",
    "from geopy.geocoders import Nominatim\n",
    "geolocator = Nominatim(user_agent=\"geoapiExercises\")\n",
    "\n",
    "s = \"\"\"Latitude   Longitude  \n",
    "42.022506  -88.168156  \n",
    "41.877445  -87.723846  \n",
    "29.986801  -90.166314\"\"\"\n",
    "df=pd.read_csv('C:\\\\creating corteva data\\\\tbl_world_ports_202210281934.csv',encoding = \"ISO-8859-1\")\n",
    "print(df.columns)\n",
    "# df = pd.read_csv(io.StringIO(s), delim_whitespace=True)\n",
    "\n",
    "def city_state_country(lat,long):\n",
    "    coord = f\"{lat}, {long}\"\n",
    "    location = geolocator.reverse(coord, exactly_one=True)\n",
    "\n",
    "    # print(location)\n",
    "    try:\n",
    "        address = location.raw['address']\n",
    "        # city = address.get('city', '')\n",
    "        # state = address.get('state', '')\n",
    "        country = address.get('country', '')\n",
    "        # row['city'] = city\n",
    "        # row['state'] = state\n",
    "        # row['country'] = country\n",
    "        # print(country)\n",
    "        try:    \n",
    "            return country\n",
    "        except :\n",
    "            return ''\n",
    "    except :\n",
    "        return ''\n",
    "# df=df[450:]\n",
    "df['country'] = df.apply(lambda row : city_state_country(row['latitude'], row['longitude']),axis = 1)\n",
    "# df = df.apply(city_state_country, axis=1)\n",
    "# print(df)"
   ]
  },
  {
   "cell_type": "code",
   "execution_count": 11,
   "metadata": {},
   "outputs": [],
   "source": [
    "df.to_csv('C:\\\\creating corteva data\\\\world_port_country.csv',index=False)\n",
    "# pd.read_csv('C:\\\\creating corteva data\\\\azure_maps_tbl_company_locations_202210281236.csv',encoding = \"ISO-8859-1\")"
   ]
  },
  {
   "cell_type": "code",
   "execution_count": 6,
   "metadata": {},
   "outputs": [],
   "source": [
    "world_port=pd.read_csv('C:\\\\creating corteva data\\\\tbl_world_ports_tanihs_copy.csv')"
   ]
  },
  {
   "cell_type": "code",
   "execution_count": 4,
   "metadata": {},
   "outputs": [
    {
     "data": {
      "text/plain": [
       "Index(['id', 'elastic_loc_id', 'port_name', 'latitude', 'longitude',\n",
       "       'port_code', 'created_at', 'last_updated', 'last_modified', 'country'],\n",
       "      dtype='object')"
      ]
     },
     "execution_count": 4,
     "metadata": {},
     "output_type": "execute_result"
    }
   ],
   "source": [
    "world_port.columns"
   ]
  },
  {
   "cell_type": "code",
   "execution_count": 5,
   "metadata": {},
   "outputs": [],
   "source": [
    "world_port=world_port[['elastic_loc_id', 'port_name', 'latitude', 'longitude',\n",
    "       'port_code', 'created_at', 'last_updated', 'last_modified', 'country']]"
   ]
  },
  {
   "cell_type": "code",
   "execution_count": null,
   "metadata": {},
   "outputs": [],
   "source": [
    "import pandas as pd"
   ]
  },
  {
   "cell_type": "code",
   "execution_count": null,
   "metadata": {},
   "outputs": [
    {
     "data": {
      "text/plain": [
       "-1"
      ]
     },
     "execution_count": 1,
     "metadata": {},
     "output_type": "execute_result"
    }
   ],
   "source": [
    "import pyodbc\n",
    "import urllib.parse\n",
    "import sqlalchemy\n",
    "import pandas as pd\n",
    "import datetime\n",
    "\n",
    "connection_string = (\"Driver={ODBC Driver 17 for SQL Server};\"\n",
    "            \"Server=gtosqlserverdev.database.windows.net;\" \n",
    "            \"Database=gtosqldbdev;\"\n",
    "            \"Uid=gtoadmin;\"\n",
    "            \"Pwd={Admin@gt0};\"\n",
    "            \"Encrypt=yes;\"\n",
    "            \"TrustServerCertificate=no;\")\n",
    "\n",
    "db_params = urllib.parse.quote_plus(connection_string)\n",
    "engine = sqlalchemy.create_engine(\"mssql+pyodbc:///?odbc_connect={}\".format(db_params),fast_executemany=True)\n",
    "\n",
    "df1 = pd.read_csv(r'C:\\Users\\temp- tanish\\Downloads\\Product_Network_VCN.csv',encoding=\"ISO-8859-1\")\n",
    "# df1['postal']=''\n",
    "# df1=df1[['address', 'iso2', 'country', 'city', 'lng', 'state',\n",
    "#        'lat']]\n",
    "# df1=df.copy()\n",
    "# print(df1.columns)\n",
    "# df1['created_at'] =  datetime.datetime.now()\n",
    "# df1['last_modified'] = datetime.datetime.now()\n",
    "# df1.to_sql(\"Product_Network_VCN\",engine,index=False,if_exists=\"append\",schema=\"cortevadev2\")\n"
   ]
  },
  {
   "cell_type": "code",
   "execution_count": 5,
   "metadata": {},
   "outputs": [
    {
     "data": {
      "text/plain": [
       "id                    0\n",
       "elastic_loc_id    10906\n",
       "port_name             0\n",
       "latitude              0\n",
       "longitude             0\n",
       "port_code             0\n",
       "created_at            0\n",
       "last_updated          0\n",
       "dtype: int64"
      ]
     },
     "execution_count": 5,
     "metadata": {},
     "output_type": "execute_result"
    }
   ],
   "source": [
    "df.isna().sum()"
   ]
  },
  {
   "cell_type": "code",
   "execution_count": null,
   "metadata": {},
   "outputs": [],
   "source": []
  },
  {
   "cell_type": "code",
   "execution_count": null,
   "metadata": {},
   "outputs": [],
   "source": []
  }
 ],
 "metadata": {
  "kernelspec": {
   "display_name": "Python 3.11.1 64-bit",
   "language": "python",
   "name": "python3"
  },
  "language_info": {
   "codemirror_mode": {
    "name": "ipython",
    "version": 3
   },
   "file_extension": ".py",
   "mimetype": "text/x-python",
   "name": "python",
   "nbconvert_exporter": "python",
   "pygments_lexer": "ipython3",
   "version": "3.11.1 (tags/v3.11.1:a7a450f, Dec  6 2022, 19:58:39) [MSC v.1934 64 bit (AMD64)]"
  },
  "orig_nbformat": 4,
  "vscode": {
   "interpreter": {
    "hash": "5238573367df39f7286bb46f9ff5f08f63a01a80960060ce41e3c79b190280fa"
   }
  }
 },
 "nbformat": 4,
 "nbformat_minor": 2
}
